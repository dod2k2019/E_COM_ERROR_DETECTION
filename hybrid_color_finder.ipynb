{
 "cells": [
  {
   "cell_type": "code",
   "execution_count": 9,
   "metadata": {},
   "outputs": [],
   "source": [
    "from PIL import Image"
   ]
  },
  {
   "cell_type": "markdown",
   "metadata": {},
   "source": [
    "In this piece of code I am just trying to find out a mashed / overall color from a picture"
   ]
  },
  {
   "cell_type": "code",
   "execution_count": 10,
   "metadata": {},
   "outputs": [],
   "source": [
    "## This approach failed as of now :: will improve it ASAP\n",
    "filename = '11139192.jpg'\n",
    "image = Image.open(filename)\n",
    "\n",
    "def average_image_color(imagedata):\n",
    "  channel_histograms = {}\n",
    "  color_averages = {}\n",
    "  for mode in imagedata.mode:\n",
    "    channel_histograms[mode] = channel_histogram(imagedata,mode)\n",
    "    color_averages[mode] = sum( i*w for i, w in enumerate(channel_histograms[mode]) ) / sum(channel_histograms[mode])\n",
    "  return color_averages\n",
    "\n",
    "print(average_image_color(image))"
   ]
  },
  {
   "cell_type": "markdown",
   "metadata": {},
   "source": [
    "# But Code below gives RGB, Hence Hexa and \n",
    "# HSL or HSV"
   ]
  },
  {
   "cell_type": "code",
   "execution_count": 3,
   "metadata": {},
   "outputs": [],
   "source": [
    "def average_image_color(filename):\n",
    "    i = Image.open(filename)\n",
    "    h = i.histogram()\n",
    "\n",
    "    # split into red, green, blue\n",
    "    r = h[0:256]\n",
    "    g = h[256:256*2]\n",
    "    b = h[256*2: 256*3]\n",
    "\n",
    "    # perform the weighted average of each channel:\n",
    "    # the *index* is the channel value, and the *value* is its weight\n",
    "    return (\n",
    "        sum( i*w for i, w in enumerate(r) ) / sum(r),\n",
    "        sum( i*w for i, w in enumerate(g) ) / sum(g),\n",
    "        sum( i*w for i, w in enumerate(b) ) / sum(b)\n",
    "    )\n"
   ]
  },
  {
   "cell_type": "code",
   "execution_count": 14,
   "metadata": {},
   "outputs": [
    {
     "name": "stdout",
     "output_type": "stream",
     "text": [
      "(191.2601786390607, 188.41593022766486, 195.347499263561)\n"
     ]
    }
   ],
   "source": [
    "filename = 'images/11237194.jpg'\n",
    "print(average_image_color(filename))"
   ]
  },
  {
   "cell_type": "code",
   "execution_count": 8,
   "metadata": {},
   "outputs": [
    {
     "name": "stdout",
     "output_type": "stream",
     "text": [
      "This python file prints the average color of the image as (R,G,B) where R,G,B are between 0 and 255.\n"
     ]
    }
   ],
   "source": [
    "print('This python file prints the average color of the image as (R,G,B) where R,G,B are between 0 and 255.')"
   ]
  },
  {
   "cell_type": "markdown",
   "metadata": {},
   "source": [
    "SO I GUESS,utilizing this an overall labelling can be done, which opens path to \n",
    "all ML based supervise learning!!"
   ]
  }
 ],
 "metadata": {
  "kernelspec": {
   "display_name": "Python 3",
   "language": "python",
   "name": "python3"
  },
  "language_info": {
   "codemirror_mode": {
    "name": "ipython",
    "version": 3
   },
   "file_extension": ".py",
   "mimetype": "text/x-python",
   "name": "python",
   "nbconvert_exporter": "python",
   "pygments_lexer": "ipython3",
   "version": "3.6.6"
  }
 },
 "nbformat": 4,
 "nbformat_minor": 2
}
